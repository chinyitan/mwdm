{
 "cells": [
  {
   "cell_type": "code",
   "execution_count": 51,
   "metadata": {},
   "outputs": [],
   "source": [
    "import numpy as np\n",
    "import matplotlib.pyplot as plt"
   ]
  },
  {
   "cell_type": "code",
   "execution_count": 56,
   "metadata": {},
   "outputs": [
    {
     "name": "stderr",
     "output_type": "stream",
     "text": [
      "<ipython-input-56-de71c7cd957d>:16: FutureWarning: Using a non-tuple sequence for multidimensional indexing is deprecated; use `arr[tuple(seq)]` instead of `arr[seq]`. In the future this will be interpreted as an array index, `arr[np.array(seq)]`, which will result either in an error or a different result.\n",
      "  if np.min(b[1:][mask_10])<1.01:\n",
      "<ipython-input-56-de71c7cd957d>:18: FutureWarning: Using a non-tuple sequence for multidimensional indexing is deprecated; use `arr[tuple(seq)]` instead of `arr[seq]`. In the future this will be interpreted as an array index, `arr[np.array(seq)]`, which will result either in an error or a different result.\n",
      "  limits_10.append(np.min(b[1:][mask_10]))\n",
      "<ipython-input-56-de71c7cd957d>:19: FutureWarning: Using a non-tuple sequence for multidimensional indexing is deprecated; use `arr[tuple(seq)]` instead of `arr[seq]`. In the future this will be interpreted as an array index, `arr[np.array(seq)]`, which will result either in an error or a different result.\n",
      "  if np.min(b[1:][mask_20])<1.01:\n",
      "<ipython-input-56-de71c7cd957d>:21: FutureWarning: Using a non-tuple sequence for multidimensional indexing is deprecated; use `arr[tuple(seq)]` instead of `arr[seq]`. In the future this will be interpreted as an array index, `arr[np.array(seq)]`, which will result either in an error or a different result.\n",
      "  limits_20.append(np.min(b[1:][mask_20]))\n",
      "<ipython-input-56-de71c7cd957d>:31: FutureWarning: Using a non-tuple sequence for multidimensional indexing is deprecated; use `arr[tuple(seq)]` instead of `arr[seq]`. In the future this will be interpreted as an array index, `arr[np.array(seq)]`, which will result either in an error or a different result.\n",
      "  mhm_20 = (np.min(b[1:][mask_20 ]))\n",
      "<ipython-input-56-de71c7cd957d>:32: FutureWarning: Using a non-tuple sequence for multidimensional indexing is deprecated; use `arr[tuple(seq)]` instead of `arr[seq]`. In the future this will be interpreted as an array index, `arr[np.array(seq)]`, which will result either in an error or a different result.\n",
      "  mhm_10 = (np.min(b[1:][mask_10 ]))\n"
     ]
    }
   ],
   "source": [
    "avail_data = np.arange(1.5,8.5,0.5)\n",
    "\n",
    "mass_10 = []\n",
    "limits_10 = []\n",
    "\n",
    "mass_20 = []\n",
    "limits_20 = []\n",
    "\n",
    "for mwdm in avail_data :\n",
    "    raw_file = np.load('{}keV_chains.npy'.format(mwdm), allow_pickle=True)[:,-1] # Only load f_wdm parameter\n",
    "    bins = np.arange(0.00, 1.04, 0.02)\n",
    "    a,b = np.histogram(raw_file, bins=bins  )\n",
    "    mask_20 = [a/a[0]<0.05]\n",
    "    mask_10 = [a/a[0]<0.10]\n",
    "   # print(np.min(b[1:][mask ]))\n",
    "    if np.min(b[1:][mask_10])<1.01:\n",
    "        mass_10.append(mwdm)\n",
    "        limits_10.append(np.min(b[1:][mask_10]))\n",
    "    if np.min(b[1:][mask_20])<1.01:\n",
    "        mass_20.append(mwdm)\n",
    "        limits_20.append(np.min(b[1:][mask_20]))\n",
    "\n",
    "\n",
    "#Pure wdm run    \n",
    "data = np.load('pure_wdm_chains.npy')[:,-1]\n",
    "bins = np.arange(5, 10, 0.05)\n",
    "a,b = np.histogram(data , bins=bins  )\n",
    "mask_20 = [a/a[0]<0.05]\n",
    "mask_10 = [a/a[0]<0.10]\n",
    "# print(np.min(b[1:][mask ]))\n",
    "mhm_20 = (np.min(b[1:][mask_20 ]))\n",
    "mhm_10 = (np.min(b[1:][mask_10 ]))\n",
    "mwdm_20 = 3 * (10**mhm_20 / 5e8)**(-3 / 10) # Convert to mwdm\n",
    "mwdm_10 = 3 * (10**mhm_10 / 5e8)**(-3 / 10) # Convert to mwdm\n",
    "#print(np.round(mwdm_20,1), np.round(mwdm_10,1))\n",
    "mass_10.append(np.round(mwdm_10,1))\n",
    "limits_10.append(1.0)\n",
    "mass_20.append(np.round(mwdm_20,1))\n",
    "limits_20.append(1.0)"
   ]
  },
  {
   "cell_type": "code",
   "execution_count": 57,
   "metadata": {},
   "outputs": [
    {
     "data": {
      "image/png": "[encoded data removed]",
      "text/plain": [
       "<Figure size 432x288 with 1 Axes>"
      ]
     },
     "metadata": {
      "needs_background": "light"
     },
     "output_type": "display_data"
    }
   ],
   "source": [
    "plt.plot(mass_10, limits_10,color='#ed7a91')\n",
    "plt.fill_between(mass_10, limits_10,1,color='#ed7a91',label='MW satellites (10:1)')\n",
    "\n",
    "plt.plot(mass_20, limits_20,color='#eb2049')\n",
    "plt.fill_between(mass_20, limits_20,1,color='#eb2049',label='MW satellites (20:1)')\n",
    "\n",
    "plt.xlim(1.5,8)\n",
    "plt.ylim(0,1)\n",
    "plt.xlabel(\"$m_{\\mathrm{WDM}}$ [keV]\",fontsize=18)\n",
    "plt.ylabel(\"$f_{\\mathrm{WDM}}$\",fontsize=18)\n",
    "plt.legend(loc='lower right')\n",
    "plt.show()"
   ]
  },
  {
   "cell_type": "code",
   "execution_count": null,
   "metadata": {},
   "outputs": [],
   "source": []
  }
 ],
 "metadata": {
  "kernelspec": {
   "display_name": "Python 3",
   "language": "python",
   "name": "python3"
  },
  "language_info": {
   "codemirror_mode": {
    "name": "ipython",
    "version": 3
   },
   "file_extension": ".py",
   "mimetype": "text/x-python",
   "name": "python",
   "nbconvert_exporter": "python",
   "pygments_lexer": "ipython3",
   "version": "3.8.5"
  }
 },
 "nbformat": 4,
 "nbformat_minor": 4
}
